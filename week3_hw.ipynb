{
 "metadata": {
  "name": "week3_hw.ipynb"
 },
 "nbformat": 3,
 "nbformat_minor": 0,
 "worksheets": [
  {
   "cells": [
    {
     "cell_type": "markdown",
     "metadata": {},
     "source": [
      "## Homework 3, CSE 232\n",
      "#### Due September 17\n",
      "Note: On most of the problem sets through the semester, I'll put a horizontal line with \"Optional\" under it.  Any problems below this section are encouraged - I think they're interesting and will help you learn the subject - but not necessary to complete in order to get credit for the homework."
     ]
    },
    {
     "cell_type": "markdown",
     "metadata": {},
     "source": [
      "### Problem 1\n",
      "\n",
      "This week, we're going to go through [GCJ 1C 2009 - Bribe the Prisoners](https://code.google.com/codejam/contest/189252/dashboard#s=p2&a=2).\n",
      "\n",
      "Here's the problem statement:\n",
      "\n",
      "> In a kingdom there are prison cells (numbered 1 to P) built to form a straight line segment. Cells number i and i+1 are adjacent, and prisoners in adjacent cells are called \"neighbours.\" A wall with a window separates adjacent cells, and neighbours can communicate through that window.\n",
      "\n",
      "> All prisoners live in peace until a prisoner is released. When that happens, the released prisoner's neighbours find out, and each communicates this to his other neighbour. That prisoner passes it on to his other neighbour, and so on until they reach a prisoner with no other neighbour (because he is in cell 1, or in cell P, or the other adjacent cell is empty). A prisoner who discovers that another prisoner has been released will angrily break everything in his cell, unless he is bribed with a gold coin. So, after releasing a prisoner in cell A, all prisoners housed on either side of cell A - until cell 1, cell P or an empty cell - need to be bribed.\n",
      "\n",
      "> Assume that each prison cell is initially occupied by exactly one prisoner, and that only one prisoner can be released per day. Given the list of Q prisoners to be released in Q days, find the minimum total number of gold coins needed as bribes if the prisoners may be released in any order.\n",
      "\n",
      "> Note that each bribe only has an effect for one day. If a prisoner who was bribed yesterday hears about another released prisoner today, then he needs to be bribed again.\n",
      "\n",
      "#### Input\n",
      "\n",
      "> The first line of input gives the number of cases, N. N test cases follow. Each case consists of 2 lines. The first line is formatted as\n",
      "\n",
      ">    `P Q`\n",
      "\n",
      ">where P is the number of prison cells and Q is the number of prisoners to be released.\n",
      ">This will be followed by a line with Q distinct cell numbers (of the prisoners to be released), space separated, sorted in ascending order.\n",
      "\n",
      "#### Output\n",
      "\n",
      "> For each test case, output one line in the format\n",
      "\n",
      "> `Case #X: C`\n",
      "\n",
      "> where X is the case number, starting from 1, and C is the minimum number of gold coins needed as bribes.\n",
      "\n",
      "#### Limits\n",
      "\n",
      "> 1 \u2264 N \u2264 100\n",
      "\n",
      "> Q \u2264 P\n",
      "\n",
      "> Each cell number is between 1 and P, inclusive.\n",
      "\n",
      "> Small dataset\n",
      "\n",
      "> 1 \u2264 P \u2264 100\n",
      "\n",
      "> 1 \u2264 Q \u2264 5\n",
      "\n",
      "> Large dataset\n",
      "\n",
      "> 1 \u2264 P \u2264 10000\n",
      "\n",
      "> 1 \u2264 Q \u2264 100"
     ]
    },
    {
     "cell_type": "markdown",
     "metadata": {},
     "source": [
      "> a) For the small input limits (less than 100 cells, less than 5 prisoners to be released), what is the total number of possible ways to release the prisoners?  Is a complete search solution feasible for the small case?  How about for the large case?"
     ]
    },
    {
     "cell_type": "markdown",
     "metadata": {},
     "source": [
      "> b) Suppose we choose to release the $q^{th}$ prisoner first.  What subproblems are we left with to solve in order to complete our solution?  Can we treat these subproblems as smaller instances of the same problem?  Does this problem exhibit optimal substructure?"
     ]
    },
    {
     "cell_type": "markdown",
     "metadata": {},
     "source": [
      "> c) What are the parameters of these subproblems that we can use to treat them as instances of the original problem?  What parameters should we use for the original problem?"
     ]
    },
    {
     "cell_type": "markdown",
     "metadata": {},
     "source": [
      "> d) Write a recursive solution to this problem using these parameters that performs a complete search of all possible solutions and attach it to your homework.  Try it on both the Small and Large inputs.  Does it work on both?"
     ]
    },
    {
     "cell_type": "markdown",
     "metadata": {},
     "source": [
      "> e) How many different subproblems are there for $P$ cells and $Q$ different prisoners to be released?  Is this much larger or smaller than the total number of possible ways to release the prisoners?"
     ]
    },
    {
     "cell_type": "markdown",
     "metadata": {},
     "source": [
      "> f) Using memoization (a dictionary cache to store the results of computation on subproblems), modify your complete search program to produce a dynamic programming solution and attach it to your homework.  Try it on both the Small and Large inputs.  Does it work on both?"
     ]
    },
    {
     "cell_type": "markdown",
     "metadata": {},
     "source": [
      "---\n",
      "##### Optional\n",
      "\n",
      "No optional work this week."
     ]
    }
   ],
   "metadata": {}
  }
 ]
}