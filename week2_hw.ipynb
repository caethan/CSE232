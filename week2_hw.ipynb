{
 "metadata": {
  "name": "week2_hw.ipynb"
 },
 "nbformat": 3,
 "nbformat_minor": 0,
 "worksheets": [
  {
   "cells": [
    {
     "cell_type": "markdown",
     "metadata": {},
     "source": [
      "## Homework 2, CSE 232\n",
      "#### Due September 10\n",
      "Note: On most of the problem sets through the semester, I'll put a horizontal line with \"Optional\" under it.  Any problems below this section are encouraged - I think they're interesting and will help you learn the subject - but not necessary to complete in order to get credit for the homework."
     ]
    },
    {
     "cell_type": "markdown",
     "metadata": {},
     "source": [
      "### Problem 1\n",
      "\n",
      "This week, we're going to go through [TOJ 1037 - Memory Management](http://acm.timus.ru/problem.aspx?space=1&num=1037).\n",
      "\n",
      "Here's the problem statement (rewritten slightly for improved clarity):\n",
      "\n",
      "> Our operating system will allocate memory in pieces that we\u2019ll call \u201cblocks\u201d. \n",
      "> The blocks are numbered by integers from 1 to $N$. \n",
      "> When the operating system needs more memory it makes a request to the memory management module. \n",
      "> To process this request, the memory management module needs to find the free memory block with the least number. \n",
      "> You may assume that there are enough blocks to process all requests.\n",
      "> Now we should define the meaning of words \u201cfree block\u201d. \n",
      "> At the moment of the first request to the memory management module all blocks are considered to be free. \n",
      "> A block also becomes free when there have been no requests to it for $T$ minutes.\n",
      "> The memory management module may also request access to previously allocated blocks.\n",
      "> To process this request the memory management module should first check if the requested block is really allocated. \n",
      "> If it is, the request is considered to be successful and the block remains allocated for a further $T$ minutes. \n",
      "> Otherwise the request fails.\n",
      "> You are to implement these algorithms for $N = 30,000$ and $T = 10$ minutes.\n",
      "\n",
      "> #### Input\n",
      "> Each line of input contains a request for memory block allocation or memory block access. \n",
      "> Memory allocation request has the form:\n",
      "\n",
      "> $Time$ +\n",
      "\n",
      "> where $Time$ is a nonnegative integer number not greater than 65,000. \n",
      "> Time is given in seconds. \n",
      "> Memory block access request has the form:\n",
      "\n",
      "> $Time$ . $BlockNo$\n",
      "\n",
      "> where Time is as described above and $BlockNo$ is an integer value from 1 to N.\n",
      "> There will be no more than 80000 requests.\n",
      "\n",
      "> #### Output\n",
      "> For each line of input you should print exactly one line with the result of the request processing. \n",
      "> For a memory allocation request you are to write an integer with the number of the allocated block. \n",
      "> As it was mentioned above you may assume that every request can be satisfied, and there will be no more than N simultaneously allocated blocks. \n",
      "> For a memory block access request you should print only the character '+' if the request is successful (i.e. the block is really allocated) or '-' if the request fails (i.e. the block with number given is free, so it can't be accessed).\n",
      "> Requests are arranged by their times in an increasing order. \n",
      "> Requests with equal times should be processed as they appear in input."
     ]
    },
    {
     "cell_type": "markdown",
     "metadata": {},
     "source": [
      "To solve this problem, we'll need some way to quickly perform two different operations - \n",
      "\n",
      "   * Allocate a free memory block, which requires us to quickly identify which free block has the lowest index.  E.g., if blocks 1-5 and 10-15 are allocated, it needs to be able to quickly report that block #6 is free.\n",
      "   * Access an allocated memory block, which requires us to quickly access a particular block, tell if it is free or not, and update the time it was last accessed.\n",
      "    \n",
      "> *a. Assuming that we write functions to perform these two operations, what should be the inputs and outputs for those functions?  That is, what input data does each function need to do their job and what do we need them to return in order to print the output requested for this problem?*\n",
      "\n",
      "After some thought, you've decided to use one data structure to contain blocks that are free and another data structure to contain blocks that have been allocated.  You'll then need to move blocks back and forth between these data structures as they become freed and allocated.\n",
      "\n",
      "> *b. When are you going to transfer blocks from the freed blocks to the allocated ones?  Which blocks are you going to be moving?*\n",
      "\n",
      "> *c. When are you going to transfer blocks from the allocated blocks to the freed ones?  Which blocks are you going to be moving?*\n",
      "\n",
      "> *d. Given your answers to parts b. and c. and the data structures you've learned about, what would be good data structures to use to contain the freed and the allocated blocks and how would you organize them (i.e., what should be the primary key?).*\n",
      "\n",
      "> *e. The basic data structures I described in class should be sufficient to solve the problem if only block allocation requests are given. Write up a solution to this problem assuming that there will be no access requests in the input stream and attach it to your homework. Some sample input/ouput following those restrictions is given below.*\n",
      "\n",
      "\n"
     ]
    },
    {
     "cell_type": "markdown",
     "metadata": {},
     "source": [
      "##### Sample Input (only allocation requests)\n",
      "\n",
      "`1 +`\n",
      "\n",
      "`4 +`\n",
      "\n",
      "`8 +`\n",
      "\n",
      "`301 +`\n",
      "\n",
      "`602 +`\n",
      "\n",
      "`602 +`\n",
      "\n",
      "`900 +`\n",
      "\n",
      "`1205 +`\n",
      "\n",
      "##### Sample Output (only allocation requests)\n",
      "\n",
      "`1`\n",
      "\n",
      "`2`\n",
      "\n",
      "`3`\n",
      "\n",
      "`4`\n",
      "\n",
      "`1`\n",
      "\n",
      "`5`\n",
      "\n",
      "`2`\n",
      "\n",
      "`1`"
     ]
    },
    {
     "cell_type": "markdown",
     "metadata": {},
     "source": [
      "---\n",
      "##### Optional\n",
      "\n",
      "> *f. Solving the problem with block access requests requires augmenting the data structure used to hold allocated blocks so that you can access blocks based on something other than their primary key.  What's the secondary key that you'll need to support block access requests?*\n",
      "\n",
      "> *g. A good way to augment data structures with a secondary key is to create a dictionary keyed on the secondary key containing pointers to elements in the primary data structure.  Augment your solution from part e. like this and see if you can use it to update block access times.*\n",
      "\n",
      "> *h. You may have noticed that directly updating elements in your primary data structure using the augmenting dictionary can break the properties that make it useful.  Can you think of an alternative way of updating elements? (hint - what would happen if you had the same block in the data structure multiple times?)*"
     ]
    },
    {
     "cell_type": "markdown",
     "metadata": {},
     "source": [
      "####Other Problems of Interest"
     ]
    },
    {
     "cell_type": "markdown",
     "metadata": {},
     "source": [
      "[TOJ 1019. Line Painting](http://acm.timus.ru/problem.aspx?space=1&num=1019) (think about segment trees!)"
     ]
    }
   ],
   "metadata": {}
  }
 ]
}