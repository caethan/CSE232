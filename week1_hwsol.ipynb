{
 "metadata": {
  "name": "week1_hwsol.ipynb"
 },
 "nbformat": 3,
 "nbformat_minor": 0,
 "worksheets": [
  {
   "cells": [
    {
     "cell_type": "markdown",
     "metadata": {},
     "source": [
      "## Homework 1, CSE 232\n",
      "#### Due September 3"
     ]
    },
    {
     "cell_type": "markdown",
     "metadata": {},
     "source": [
      "###Problem 1\n",
      "\n",
      "During lab today, I gave you a Small problem from the Google Code Jam: [Bullseye](https://code.google.com/codejam/contest/dashboard?c=2418487#s=p0). Here's the text of the problem:\n",
      "\n",
      ">Maria starts with $t$ millilitres of black paint, which she will use to draw rings of thickness 1 cm (one centimetre). A ring of thickness 1 cm is the space between two concentric circles whose radii differ by 1 cm.\n",
      "\n",
      ">Maria draws the first black ring around a white circle of radius $r$ cm. Then she repeats the following process for as long as she has enough paint to do so:\n",
      "\n",
      ">Maria imagines a white ring of thickness 1 cm around the last black ring.\n",
      ">Then she draws a new black ring of thickness 1 cm around that white ring.\n",
      ">Note that each \"white ring\" is simply the space between two black rings.\n",
      ">The area of a disk with radius 1 cm is \u03c0 cm$^2$. One millilitre of paint is required to cover area \u03c0 cm$^2$. What is the maximum number of black rings that Maria can draw? Please note that:\n",
      "\n",
      ">Maria only draws complete rings. If the remaining paint is not enough to draw a complete black ring, she stops painting immediately.\n",
      ">There will always be enough paint to draw at least one black ring."
     ]
    },
    {
     "cell_type": "markdown",
     "metadata": {},
     "source": [
      "In the Small problem, both *r* and *t* are less than 1000."
     ]
    },
    {
     "cell_type": "markdown",
     "metadata": {},
     "source": [
      "> *a. How much paint will it take to paint the $n$th black ring in terms of $n$ and $r$?*\n"
     ]
    },
    {
     "cell_type": "markdown",
     "metadata": {},
     "source": [
      "A ring with an inner radius $r$ has total area $\\pi (r+1)^2 - \\pi r^2$ - the area of the outer circle minus that of the inner circle.  It takes 1 unit of paint to cover an area of $\\pi$, so the total paint needed for the first ring (with inner radius $r$) is $(r+1)^2 - r^2$ or $2r + 1$.  The next ring has an inner radius that is 2 cm greater than the first ring - 1 cm for the first black ring and 1 cm for the white space which separates the two.  Thus, the paint required for it is $2(r+2) + 1$, or $2r + 5$.  Similarly, the third ring requires $2r + 9$ units of paint and the formula is $P(r,n) = 2r + 4n - 3$."
     ]
    },
    {
     "cell_type": "markdown",
     "metadata": {},
     "source": [
      "> *b. Describe a brute force algorithm to solving the Small problem by iterating through each black ring using the formula derived in part a.  How does this algorithm scale with maximum $n$? What is the largest possible number of black rings Maria can draw under using the Small input limits?*"
     ]
    },
    {
     "cell_type": "markdown",
     "metadata": {},
     "source": [
      "We can solve the Small problem by starting $n$ at 1 and adding up the paint required for each successive ring as we increment $n$.  Once the total paint required is more than $t$, we've run out of paint on the current ring, so the last one was the most rings possible to paint.  This algorithm is linear with maximum $n$ - we need to iterate through each ring to do the calculation.\n",
      "\n",
      "The most number of rings it would be possible to paint would be with large $t$ and small $r$.  So with the extreme values of these variables, $r=1$ and $t=1000$, we can simply solve the problem:"
     ]
    },
    {
     "cell_type": "code",
     "collapsed": false,
     "input": [
      "r = 1\n",
      "t = 1000\n",
      "n = 0\n",
      "paint = 0\n",
      "while paint <= t:\n",
      "    n += 1\n",
      "    paint += 2 * r + 4 * n - 3\n",
      "print n - 1"
     ],
     "language": "python",
     "metadata": {},
     "outputs": [
      {
       "output_type": "stream",
       "stream": "stdout",
       "text": [
        "22\n"
       ]
      }
     ],
     "prompt_number": 16
    },
    {
     "cell_type": "markdown",
     "metadata": {},
     "source": [
      "In the Large problem, *r* is allowed to be as large as $10^{18}$, while *t* is allowed to be as large as $2 \\times 10^{18}$.\n",
      "\n",
      "> *c. How does this limit the applicability of a brute force solution?*"
     ]
    },
    {
     "cell_type": "markdown",
     "metadata": {},
     "source": [
      "While we can try to use the same approach as above, unfortunately when we run it with the new maximum limits, our code takes far too long to run and we have to kill it.  Clearly these limits are too large for brute force."
     ]
    },
    {
     "cell_type": "code",
     "collapsed": false,
     "input": [
      "r = 1\n",
      "t = 2e18\n",
      "n = 0\n",
      "paint = 0\n",
      "while paint <= t:\n",
      "    n += 1\n",
      "    paint += 2 * r + 4 * n - 3\n",
      "print n - 1"
     ],
     "language": "python",
     "metadata": {},
     "outputs": [
      {
       "ename": "KeyboardInterrupt",
       "evalue": "",
       "output_type": "pyerr",
       "traceback": [
        "\u001b[0;31m---------------------------------------------------------------------------\u001b[0m\n\u001b[0;31mKeyboardInterrupt\u001b[0m                         Traceback (most recent call last)",
        "\u001b[0;32m<ipython-input-23-8edd99c33df8>\u001b[0m in \u001b[0;36m<module>\u001b[0;34m()\u001b[0m\n\u001b[1;32m      5\u001b[0m \u001b[0;32mwhile\u001b[0m \u001b[0mpaint\u001b[0m \u001b[0;34m<=\u001b[0m \u001b[0mt\u001b[0m\u001b[0;34m:\u001b[0m\u001b[0;34m\u001b[0m\u001b[0m\n\u001b[1;32m      6\u001b[0m     \u001b[0mn\u001b[0m \u001b[0;34m+=\u001b[0m \u001b[0;36m1\u001b[0m\u001b[0;34m\u001b[0m\u001b[0m\n\u001b[0;32m----> 7\u001b[0;31m     \u001b[0mpaint\u001b[0m \u001b[0;34m+=\u001b[0m \u001b[0;36m2\u001b[0m \u001b[0;34m*\u001b[0m \u001b[0mr\u001b[0m \u001b[0;34m+\u001b[0m \u001b[0;36m4\u001b[0m \u001b[0;34m*\u001b[0m \u001b[0mn\u001b[0m \u001b[0;34m-\u001b[0m \u001b[0;36m3\u001b[0m\u001b[0;34m\u001b[0m\u001b[0m\n\u001b[0m\u001b[1;32m      8\u001b[0m \u001b[0;32mprint\u001b[0m \u001b[0mn\u001b[0m \u001b[0;34m-\u001b[0m \u001b[0;36m1\u001b[0m\u001b[0;34m\u001b[0m\u001b[0m\n",
        "\u001b[0;31mKeyboardInterrupt\u001b[0m: "
       ]
      }
     ],
     "prompt_number": 23
    },
    {
     "cell_type": "markdown",
     "metadata": {},
     "source": [
      "> *d. How much paint is needed to paint the first $n$ black rings in terms of $n$ and $r$?  That is, $\\sum\\limits_{i=1}^n P(i, r)$, where $P(n, r)$ is the paint needed for the $n$th ring as calculated in part b.*"
     ]
    },
    {
     "cell_type": "markdown",
     "metadata": {},
     "source": [
      "$P(n,r) = 2r + 4n - 3$, so we want to calculate \n",
      "\n",
      "$T(n,r) = \\sum\\limits_{i=1}^n 2r + 4i - 3$.\n",
      "\n",
      "The first thing to note is that we can pull most of the terms out of the sum:\n",
      "\n",
      "$T(n,r) = 2rn - 3n + 4 \\sum\\limits_{i=1}^n i$.\n",
      "\n",
      "The remaining sum is a well known series and is the triangular number $n(n+1)/2$, giving us the final formula\n",
      "\n",
      "$T(n,r) = n ( 2n + 2r - 1)$."
     ]
    },
    {
     "cell_type": "markdown",
     "metadata": {},
     "source": [
      "> *e. Describe how you could potentially use this formula to solve this problem in $O(1)$ time.  Implement this solution in your language of choice, attach your solution to your homework, and try to solve both the Small and Large problems with it using the Google Code Jam submission form. Does it work for both input sizes?*"
     ]
    },
    {
     "cell_type": "markdown",
     "metadata": {},
     "source": [
      "We can solve the quadratic equation $t = 2n^2 + 2rn - n$ for $n$ and take the floor.  If $t$ paints exactly an integer number of rings, we'll get an integer solution - otherwise we discard the excess as we won't be able to complete that ring.  The solution to this equation is\n",
      "\n",
      "$n = \\left \\lfloor \\sqrt{4r^2 - 4r + 8t - 1} - (2r - 1)/4 \\right \\rfloor.$\n",
      "\n",
      "Unfortunately, while this works for the Small problem, it fails for the Large problem because of rounding errors!"
     ]
    },
    {
     "cell_type": "markdown",
     "metadata": {},
     "source": [
      "> *f. Working with large integers and square root functions can often cause integer overflows and rounding errors, leading to wrong answers even when the algorithm is technically correct.  Describe how to solve this problem in $O(\\mathrm{log }n)$ time using the same formula by repeatedly dividing the search space. Implement this solution, attach it to your homework, and test it on both the Small and Large problems.*"
     ]
    },
    {
     "cell_type": "markdown",
     "metadata": {},
     "source": [
      "We can solve this problem by doing a binary search for $n$ using the formula we calculated for $T(n,r)$.  We first need lower and upper bounds for $n$.  The lower bound is guaranteed by the problem statement to be 1, and we can find the upper bound by repeatedly doubling $n$ until $T(n,r) > t$. We then use binary search to repeatedly divide this interval in half until we have an interval where $T(n,r) <= t$ and $T(n+1,r) > t$, giving us $n$ as the solution."
     ]
    }
   ],
   "metadata": {}
  }
 ]
}