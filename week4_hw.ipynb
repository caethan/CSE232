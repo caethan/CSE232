{
 "metadata": {
  "name": "week4_hw.ipynb"
 },
 "nbformat": 3,
 "nbformat_minor": 0,
 "worksheets": [
  {
   "cells": [
    {
     "cell_type": "markdown",
     "metadata": {},
     "source": [
      "## Homework 4, CSE 232\n",
      "#### Due September 24\n",
      "Note: On most of the problem sets through the semester, I'll put a horizontal line with \"Optional\" under it.  Any problems below this section are encouraged - I think they're interesting and will help you learn the subject - but not necessary to complete in order to get credit for the homework."
     ]
    },
    {
     "cell_type": "markdown",
     "metadata": {},
     "source": [
      "### Problem 1\n",
      "\n",
      "This week's problem is [GCJ 1B 2013 - Garbled Email](https://code.google.com/codejam/contest/2434486/dashboard#s=p2).\n",
      "\n",
      "Here's the problem statement:\n",
      "\n",
      "> Gagan just got an email from her friend Jorge. The email contains important information, but unfortunately it was corrupted when it was sent: all of the spaces are missing, and after the removal of the spaces, some of the letters have been changed to other letters! All Gagan has now is a string S of lower-case characters.\n",
      "\n",
      "> You know that the email was originally made out of words from the dictionary described below. You also know the letters were changed after the spaces were removed, and that the difference between the indices of any two letter changes is not less than 5. So for example, the string \"code jam\" could have become \"codejam\", \"dodejbm\", \"zodejan\" or \"cidejab\", but not \"kodezam\" (because the distance between the indices of the \"k\" change and the \"z\" change is only 4).\n",
      "\n",
      "> What is the minimum number of letters that could have been changed?\n",
      "\n",
      "#### Dictionary\n",
      "\n",
      "> In order to solve this problem, you'll need an extra file: a special dictionary that you can find at https://code.google.com/codejam/contest/static/garbled_email_dictionary.txt. It is not a dictionary from any natural language, though it does contain some English words. Each line of the dictionary contains one word. The dictionary file should be 3844492 bytes in size, contain 521196 words, start with the word \"a\", and end with the word \"zymuznh\".\n",
      "\n",
      "> When you're submitting the code you used to solve this problem, you shouldn't include the dictionary. As usual, however, you must submit all code you used to solve the problem.\n",
      "\n",
      "> Note that if you are using Windows and want to look at the dictionary file, you should avoid Notepad, and instead use WordPad or another piece of software, or else all the words might appear on the same line.\n",
      "\n",
      "#### Input\n",
      "\n",
      "> The first line of the input gives the number of test cases, T. T test cases follow. Each test case consists of a single line containing a string S, consisting of lower-case characters a-z.\n",
      "\n",
      "#### Output\n",
      "\n",
      "> For each test case, output one line containing \"Case #x: y\", where x is the case number (starting from 1) and y is the minimum number of letters that could have been changed in order to make S.\n",
      "\n",
      "#### Limits\n",
      "\n",
      "> S is valid: it is possible to make it using the method described above.\n",
      "\n",
      "##### Small dataset\n",
      "\n",
      "> 1 \u2264 T \u2264 20.\n",
      "\n",
      "> 1 \u2264 length of S \u2264 50.\n",
      "\n",
      "##### Large dataset\n",
      "\n",
      "> 1 \u2264 T \u2264 4.\n",
      "\n",
      "> 1 \u2264 length of S \u2264 4000."
     ]
    },
    {
     "cell_type": "markdown",
     "metadata": {},
     "source": [
      "In class today, we talked about how to solve a related problem: given $S$, determine whether it can be constructed by concatenating together words from our dictionary.  Let's solve an instance of this related problem.  Given the word list\n",
      "\n",
      "`a`, `aac`, `acb`, `baa`, `bbc`, `bc`, `caba`, `caab`\n",
      "\n",
      "and a test string $S =$ `aacaabbc`, we first want to construct a trie containing all the words in our word list. "
     ]
    },
    {
     "cell_type": "markdown",
     "metadata": {},
     "source": [
      "> *a) How many terminator nodes will our trie contain?  What will be the children of the root node?*"
     ]
    },
    {
     "cell_type": "markdown",
     "metadata": {},
     "source": [
      "> *b) Write a function that takes the root node of a trie and a new word and inserts the word into the trie.  Don't forget the terminator nodes. Use this function to write code constructing the trie containing the word list given above.  Attach your code to the homework.*"
     ]
    },
    {
     "cell_type": "markdown",
     "metadata": {},
     "source": [
      "> *c) We talked about how to solve this problem in class using dynamic programming to fill in an array of booleans the length of $S$ denoting whether each suffix of $S$ can be constructed from words in our dictionary.  Construct this array by hand for $S=$`aacaabbc` and give your justification for each choice.*"
     ]
    },
    {
     "cell_type": "markdown",
     "metadata": {},
     "source": [
      "> *d) Suppose that instead we asked how many characters of $S$ must be changed in order for $S$ to be composed of words in our dictionary. Construct a dynamic programming solution to this problem by replacing our array of booleans as in part c) with an array of integers denoting how many characters of each suffix of $S$ must be changed in order for that suffix to be composed of words in our dictionary. Test your code on the sample input and output below.  Attach both your code and the output of your code on the test input to your homework.*\n",
      "\n",
      "> Sample Input: `abbbcbbc`.  \n",
      "\n",
      "> Correct Output: `[1, 1, 0, 0, 1, 0, 0, 1]`"
     ]
    },
    {
     "cell_type": "markdown",
     "metadata": {},
     "source": [
      "---\n",
      "##### Optional\n",
      "\n",
      "> *e) The Google Code Jam problem is very similar to part d) but has a constraint on how closely garbled characters are allowed to be - there must be at least four non-garbled characters between any two garbled characters.  Construct a dynamic programming solution to the GCJ problem using a two-dimensional array of integers denoting how many characters must be garbled to construct the $i^{th}$ suffix of $S$ from words in the dictionary if the first $j$ characters of the suffix are not allowed to be garbled. Test your code on the Small and Large input sets and check that it works.*"
     ]
    }
   ],
   "metadata": {}
  }
 ]
}