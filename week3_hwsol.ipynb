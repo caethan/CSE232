{
 "metadata": {
  "name": "week3_hwsol.ipynb"
 },
 "nbformat": 3,
 "nbformat_minor": 0,
 "worksheets": [
  {
   "cells": [
    {
     "cell_type": "markdown",
     "metadata": {},
     "source": [
      "## Homework 3, CSE 232\n",
      "#### Due September 17\n",
      "Note: On most of the problem sets through the semester, I'll put a horizontal line with \"Optional\" under it.  Any problems below this section are encouraged - I think they're interesting and will help you learn the subject - but not necessary to complete in order to get credit for the homework."
     ]
    },
    {
     "cell_type": "markdown",
     "metadata": {},
     "source": [
      "### Problem 1\n",
      "\n",
      "This week, we're going to go through [GCJ 1C 2009 - Bribe the Prisoners](https://code.google.com/codejam/contest/189252/dashboard#s=p2&a=2).\n",
      "\n",
      "Here's the problem statement:\n",
      "\n",
      "> In a kingdom there are prison cells (numbered 1 to P) built to form a straight line segment. Cells number i and i+1 are adjacent, and prisoners in adjacent cells are called \"neighbours.\" A wall with a window separates adjacent cells, and neighbours can communicate through that window.\n",
      "\n",
      "> All prisoners live in peace until a prisoner is released. When that happens, the released prisoner's neighbours find out, and each communicates this to his other neighbour. That prisoner passes it on to his other neighbour, and so on until they reach a prisoner with no other neighbour (because he is in cell 1, or in cell P, or the other adjacent cell is empty). A prisoner who discovers that another prisoner has been released will angrily break everything in his cell, unless he is bribed with a gold coin. So, after releasing a prisoner in cell A, all prisoners housed on either side of cell A - until cell 1, cell P or an empty cell - need to be bribed.\n",
      "\n",
      "> Assume that each prison cell is initially occupied by exactly one prisoner, and that only one prisoner can be released per day. Given the list of Q prisoners to be released in Q days, find the minimum total number of gold coins needed as bribes if the prisoners may be released in any order.\n",
      "\n",
      "> Note that each bribe only has an effect for one day. If a prisoner who was bribed yesterday hears about another released prisoner today, then he needs to be bribed again.\n",
      "\n",
      "#### Input\n",
      "\n",
      "> The first line of input gives the number of cases, N. N test cases follow. Each case consists of 2 lines. The first line is formatted as\n",
      "\n",
      ">    `P Q`\n",
      "\n",
      ">where P is the number of prison cells and Q is the number of prisoners to be released.\n",
      ">This will be followed by a line with Q distinct cell numbers (of the prisoners to be released), space separated, sorted in ascending order.\n",
      "\n",
      "#### Output\n",
      "\n",
      "> For each test case, output one line in the format\n",
      "\n",
      "> `Case #X: C`\n",
      "\n",
      "> where X is the case number, starting from 1, and C is the minimum number of gold coins needed as bribes.\n",
      "\n",
      "#### Limits\n",
      "\n",
      "> 1 \u2264 N \u2264 100\n",
      "\n",
      "> Q \u2264 P\n",
      "\n",
      "> Each cell number is between 1 and P, inclusive.\n",
      "\n",
      "> Small dataset\n",
      "\n",
      "> 1 \u2264 P \u2264 100\n",
      "\n",
      "> 1 \u2264 Q \u2264 5\n",
      "\n",
      "> Large dataset\n",
      "\n",
      "> 1 \u2264 P \u2264 10000\n",
      "\n",
      "> 1 \u2264 Q \u2264 100"
     ]
    },
    {
     "cell_type": "markdown",
     "metadata": {},
     "source": [
      "> a) For the small input limits (less than 100 cells, less than 5 prisoners to be released), what is the total number of possible ways to release the prisoners?  Is a complete search solution feasible for the small case?  How about for the large case?"
     ]
    },
    {
     "cell_type": "markdown",
     "metadata": {},
     "source": [
      "There are at most $5 * 4 * 3 * 2 * 1 = 5! = 120$ different orders in which to release the prisoners under the small input limits, making a complete search solution quite reasonable.  In the large case, we have instead a maximum of $100!$ possible ways to release the prisoners, much larger than 10 million, and so we must use an alternative approach."
     ]
    },
    {
     "cell_type": "markdown",
     "metadata": {},
     "source": [
      "> b) Suppose we choose to release the prisoner in cell $q$ first.  What subproblems are we left with to solve in order to complete our solution?  Can we treat these subproblems as smaller instances of the same problem?  Does this problem exhibit optimal substructure?"
     ]
    },
    {
     "cell_type": "markdown",
     "metadata": {},
     "source": [
      "Once we've released the prisoner in cell $q$, we have two completely separate blocks of cells:  $[1, q-1]$ and $[q+1, P]$.  We can consider each of these blocks of cells independently, as no releases in one can affect the other.  That means we can treat each as smaller instances of the first problem, with smaller $P$ and $Q$ covering only those prisoners to be released that reside in each separate block.  Because the total bribe required is the sum of $P$ (the initial bribe for releasing prisoner $q$) and the bribes required for the best way to release prisoners in the first and second remaining blocks, this problem exhibits optimal substructure."
     ]
    },
    {
     "cell_type": "markdown",
     "metadata": {},
     "source": [
      "> c) What are the parameters of these subproblems that we can use to treat them as instances of the original problem?  What parameters should we use for the original problem?"
     ]
    },
    {
     "cell_type": "markdown",
     "metadata": {},
     "source": [
      "We can use the first and last cells in each block as parameters for our subproblems, in which case the parameters for the original problem are $[1, P]$."
     ]
    },
    {
     "cell_type": "markdown",
     "metadata": {},
     "source": [
      "> d) Write a recursive solution to this problem using these parameters that performs a complete search of all possible solutions and attach it to your homework.  Try it on both the Small and Large inputs.  Does it work on both?"
     ]
    },
    {
     "cell_type": "code",
     "collapsed": false,
     "input": [
      "import sys\n",
      "import numpy as np\n",
      "\n",
      "def read_input(infile):\n",
      "    P, Q = np.array(infile.readline().split(), dtype=int)\n",
      "    released = np.array(infile.readline().split(), dtype=int)\n",
      "    return P, released\n",
      "\n",
      "def solve_case(P, released):\n",
      "    \n",
      "    def find_min_cost(mincell, maxcell):\n",
      "        cost = 0\n",
      "        valid = (mincell <= released) & (released <= maxcell)\n",
      "        for num in released[valid]:\n",
      "            tmp = maxcell - mincell + find_min_cost(mincell, num-1) + find_min_cost(num+1, maxcell)\n",
      "            if (not cost) or (tmp < cost):\n",
      "                cost = tmp\n",
      "        return cost\n",
      "        \n",
      "    return find_min_cost(1, P)\n",
      "    \n",
      "infile = open(\"%s\" % sys.argv[1], 'r')\n",
      "outfile = open(\"%s.out\" % sys.argv[1][:-3], 'w')   \n",
      "cases = int(infile.readline().strip('\\n'))\n",
      "for i in range(cases):\n",
      "    case = read_input(infile)\n",
      "    output = solve_case(*case)\n",
      "    outfile.write('Case #%i: %s\\n' % (i+1, output))\n",
      "    print 'Case #%i: %s' % (i+1, output)\n",
      "infile.close()\n",
      "outfile.close()"
     ],
     "language": "python",
     "metadata": {},
     "outputs": []
    },
    {
     "cell_type": "markdown",
     "metadata": {},
     "source": [
      "This solution works fine on the small input, but doesn't finish fast enough for the large input."
     ]
    },
    {
     "cell_type": "markdown",
     "metadata": {},
     "source": [
      "> e) How many different subproblems are there for $P$ cells and $Q$ different prisoners to be released?  Is this much larger or smaller than the total number of possible ways to release the prisoners?"
     ]
    },
    {
     "cell_type": "markdown",
     "metadata": {},
     "source": [
      "Each released prisoner will produce (at most) one block ending in the cell above and one ending in the cell below it.  That means there are $Q+1$ possible upper cells for blocks (one for each released prisoner as well as $P$ itself) and $Q+1$ possible lower cells for blocks, giving $O(Q^2)$ total possible subproblems.  This is much smaller than $O(Q!)$ required for a complete search, and so a dynamic programming solution should run much faster."
     ]
    },
    {
     "cell_type": "markdown",
     "metadata": {},
     "source": [
      "> f) Using memoization (a dictionary cache to store the results of computation on subproblems), modify your complete search program to produce a dynamic programming solution and attach it to your homework.  Try it on both the Small and Large inputs.  Does it work on both?"
     ]
    },
    {
     "cell_type": "code",
     "collapsed": false,
     "input": [
      "import numpy as np\n",
      "import sys\n",
      "\n",
      "#This is a Python decorator, which you can use to wrap functions - in this case,\n",
      "#it provides a cache for an arbitrary function.\n",
      "class memoize(object):\n",
      "   def __init__(self, func):\n",
      "      self.func = func\n",
      "      self.cache = {}\n",
      "   def __call__(self, *args):\n",
      "      if args in self.cache:\n",
      "         return self.cache[args]\n",
      "      else:\n",
      "         value = self.func(*args)\n",
      "         self.cache[args] = value\n",
      "         return value\n",
      "\n",
      "def read_input(infile):\n",
      "    P, Q = np.array(infile.readline().split(), dtype=int)\n",
      "    released = np.array(infile.readline().split(), dtype=int)\n",
      "    return P, released\n",
      "\n",
      "def solve_case(P, released):\n",
      "    \n",
      "    @memoize\n",
      "    def find_min_cost(mincell, maxcell):\n",
      "        cost = 0\n",
      "        valid = (mincell <= released) & (released <= maxcell)\n",
      "        for num in released[valid]:\n",
      "            tmp = maxcell - mincell + find_min_cost(mincell, num-1) + find_min_cost(num+1, maxcell)\n",
      "            if (not cost) or (tmp < cost):\n",
      "                cost = tmp\n",
      "        return cost\n",
      "        \n",
      "    return find_min_cost(1, P)\n",
      "    \n",
      "infile = open(\"%s\" % sys.argv[1], 'r')\n",
      "outfile = open(\"%s.out\" % sys.argv[1][:-3], 'w')   \n",
      "cases = int(infile.readline().strip('\\n'))\n",
      "for i in range(cases):\n",
      "    case = read_input(infile)\n",
      "    output = solve_case(*case)\n",
      "    outfile.write('Case #%i: %s\\n' % (i+1, output))\n",
      "    print 'Case #%i: %s' % (i+1, output)\n",
      "infile.close()\n",
      "outfile.close()"
     ],
     "language": "python",
     "metadata": {},
     "outputs": []
    },
    {
     "cell_type": "markdown",
     "metadata": {},
     "source": [
      "---\n",
      "##### Optional\n",
      "\n",
      "No optional work this week."
     ]
    }
   ],
   "metadata": {}
  }
 ]
}