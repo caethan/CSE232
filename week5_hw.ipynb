{
 "metadata": {
  "name": "week5_hw.ipynb"
 },
 "nbformat": 3,
 "nbformat_minor": 0,
 "worksheets": [
  {
   "cells": [
    {
     "cell_type": "markdown",
     "metadata": {},
     "source": [
      "## Homework 5, CSE 232\n",
      "#### Due October 1st\n",
      "Note: On most of the problem sets through the semester, I'll put a horizontal line with \"Optional\" under it.  Any problems below this section are encouraged - I think they're interesting and will help you learn the subject - but not necessary to complete in order to get credit for the homework."
     ]
    },
    {
     "cell_type": "markdown",
     "metadata": {},
     "source": [
      "### Problem 1\n",
      "\n",
      "This week's problem is [GCJ Qualification 2011 - Candy Splitting](https://code.google.com/codejam/contest/975485/dashboard#s=p2).\n",
      "\n",
      "Here's the problem statement:\n",
      "\n",
      "> Sean and Patrick are brothers who just got a nice bag of candy from their parents. Each piece of candy has some positive integer value, and the children want to divide the candy between them. First, Sean will split the candy into two piles, and choose one to give to Patrick. Then Patrick will try to calculate the value of each pile, where the value of a pile is the sum of the values of all pieces of candy in that pile; if he decides the piles don't have equal value, he will start crying.\n",
      "\n",
      "> Unfortunately, Patrick is very young and doesn't know how to add properly. He almost knows how to add numbers in binary; but when he adds two 1s together, he always forgets to carry the remainder to the next bit. For example, if he wants to sum 12 (1100 in binary) and 5 (101 in binary), he will add the two rightmost bits correctly, but in the third bit he will forget to carry the remainder to the next bit:"
     ]
    },
    {
     "cell_type": "raw",
     "metadata": {},
     "source": [
      "  1100\n",
      "+ 0101\n",
      "------\n",
      "  1001"
     ]
    },
    {
     "cell_type": "markdown",
     "metadata": {},
     "source": [
      "> So after adding the last bit without the carry from the third bit, the final result is 9 (1001 in binary). Here are some other examples of Patrick's math skills:\n",
      "\n",
      "> 5 + 4 = 1\n",
      "\n",
      "> 7 + 9 = 14\n",
      "\n",
      "> 50 + 10 = 56\n",
      "\n",
      "> Sean is very good at adding, and he wants to take as much value as he can without causing his little brother to cry. If it's possible, he will split the bag of candy into two non-empty piles such that Patrick thinks that both have the same value. Given the values of all pieces of candy in the bag, we would like to know if this is possible; and, if it's possible, determine the maximum possible value of Sean's pile.\n",
      "\n",
      "#### Input\n",
      "\n",
      "> The first line of the input gives the number of test cases, T. T test cases follow. Each test case is described in two lines. The first line contains a single integer N, denoting the number of candies in the bag. The next line contains the N integers $C_i$ separated by single spaces, which denote the value of each piece of candy in the bag.\n",
      "\n",
      "#### Output\n",
      "\n",
      "> For each test case, output one line containing \"Case #x: y\", where x is the case number (starting from 1). If it is impossible for Sean to keep Patrick from crying, y should be the word \"NO\". Otherwise, y should be the value of the pile of candies that Sean will keep.\n",
      "\n",
      "#### Limits\n",
      "\n",
      "> 1 \u2264 T \u2264 100.\n",
      "\n",
      "> 1 \u2264 $C_i$ \u2264 106.\n",
      "\n",
      "##### Small dataset\n",
      "\n",
      "> 2 \u2264 N \u2264 15.\n",
      "\n",
      "##### Large dataset\n",
      "\n",
      "> 2 \u2264 N \u2264 1000."
     ]
    },
    {
     "cell_type": "markdown",
     "metadata": {},
     "source": [
      "> *a) Using the way in which Patrick adds numbers, write a function that takes a list of candy values and returns how much Patrick thinks all the candies are worth together.*"
     ]
    },
    {
     "cell_type": "markdown",
     "metadata": {},
     "source": [
      "> *b) What are the maximum number of possible ways Sean can divide the candies into two piles for the Small and the Large cases?  Write a complete search solution that tests each possible division for whether Patrick is satisfied and finds the maximum value for Sean's pile.*"
     ]
    },
    {
     "cell_type": "markdown",
     "metadata": {},
     "source": [
      "> *c) We can calculate whether two numbers are equal using no direct comparison operators (e.g., \"==\", \"!=\", etc.) but instead with only a single binary operator.  Write a function that, given, Patrick's estimate of the values of two piles of candy, returns a Boolean describing whether he thinks they're equal.*"
     ]
    },
    {
     "cell_type": "markdown",
     "metadata": {},
     "source": [
      "> *d) Given your answers to the above questions, how does Patrick's satisfaction depend on how Sean divides the candies into two piles? Use this result to write a linear-time solution to the problem that correctly solves the Large input.* "
     ]
    },
    {
     "cell_type": "markdown",
     "metadata": {},
     "source": [
      "---\n",
      "##### Optional\n",
      "\n",
      "No optional work this week."
     ]
    }
   ],
   "metadata": {}
  }
 ]
}