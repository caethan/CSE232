{
 "metadata": {
  "name": "week11_notes.ipynb"
 },
 "nbformat": 3,
 "nbformat_minor": 0,
 "worksheets": [
  {
   "cells": [
    {
     "cell_type": "markdown",
     "metadata": {},
     "source": [
      "# Week 11 - Number Theory"
     ]
    },
    {
     "cell_type": "markdown",
     "metadata": {},
     "source": [
      "Number theory is the study of the integers.  The most basic concept in number theory is *divisibility*.  We say that $b$ *divides* $a$ (written $b|a$) if $a=bk$ for some integer $k$.  We can also say that $a$ is a *multiple* of $b$, or that $b$ is a *divisor* of $a$ (if $b \\geq 0$).  Every positive integer $a$ is divisible by the trivial divisors 1 and $a$, and the nontrivial divisors of $a$ are called the *factors* of $a$.  \n",
      "\n",
      "##### Greatest Common Divisor\n",
      "\n",
      "The greatest common divisor, or GCD, of two integers $a$ and $b$, is the largest of the common divisors of $a$ and $b$.  For example, the factors of 24 are 2, 3, 4, 6, 8, and 12, while the factors of 30 are 2, 3, 5, 6, 10, and 15, so the greatest common divisor of them (or gcd(24,30)) is 6.  This has several uses.  More prosaically, we can use this to simplify fractions by removing the common factors:  e.g., reducing $\\frac{24}{30}$ to $\\frac{4}{5}$.  Euclid's algorithm for calculating the GCD is still the most widely used and simple to program.  It exploits the property that:\n",
      "\n",
      "If $a = bt + r$ for integers $t$ and $r$, then $GCD(a, b) = GCD(b, r)$.\n",
      "\n",
      "Why?  Clearly $a = bt + r$ for some $t$ and $r$ - $r$ is the remainder and $t$ the multiple of $b$.  Then $GCD(a, b) = GCD(bt + r, b)$.  But any common divisor of $b$ and $bt + r$ must reside entirely in $r$, as $bt$ must necessarily be divisible by any divisor of $b$.  So $GCD(a, b) = GCD(r, b)$.  So we can write a recursive algorithm to find the GCD of any two positive integers:"
     ]
    },
    {
     "cell_type": "code",
     "collapsed": false,
     "input": [
      "def gcd(a, b):\n",
      "    if b == 0:\n",
      "        return a\n",
      "    return gcd(b, a % b)"
     ],
     "language": "python",
     "metadata": {},
     "outputs": [],
     "prompt_number": 1
    },
    {
     "cell_type": "markdown",
     "metadata": {},
     "source": [
      "##### Least Common Multiple\n",
      "\n",
      "The least common multiple (LCM) is a closely related problem, the *smallest* integer which is divisible by both of a pair of integers.  We can calculate it easily using the GCD:\n",
      "\n",
      "$LCM(a, b) = ab / GCD(a, b)$.\n",
      "\n",
      "To calculate the GCD and LCM of more than two numbers, we can just nest the calls, e.g., $GCD(a, b, c) = GCD(a, GCD(b, c))$."
     ]
    },
    {
     "cell_type": "markdown",
     "metadata": {},
     "source": [
      "#### Primes\n",
      "\n",
      "A prime number is an integer $p > 1$ whose only divisors are 1 and $p$.  Primes have a number of useful properties and are essential in number theory.  Any number which is not prime is called *composite*.  \n",
      "\n",
      "##### Testing primality\n",
      "\n",
      "There are an infinite number of primes, but they are not distributed according to any pattern.  There are roughly $x / ln(x)$ primes less than or equal to $x$, meaning that roughly 1 out of every $ln(x)$ numbers is prime.  The most straightforward way to test whether a number is prime is trial division by candidate divisors.  If $N$ is prime, then none of the numbers in $[2, N-1]$ will divide it, so we loop through all of those numbers and test whether any of them are factors of $N$:\n"
     ]
    },
    {
     "cell_type": "code",
     "collapsed": false,
     "input": [
      "def is_prime(N):\n",
      "    for i in xrange(2, N):\n",
      "        if (N % i) == 0:\n",
      "            return False\n",
      "    return True"
     ],
     "language": "python",
     "metadata": {},
     "outputs": [],
     "prompt_number": 4
    },
    {
     "cell_type": "code",
     "collapsed": false,
     "input": [
      "[p for p in range(2, 50) if is_prime(p)]"
     ],
     "language": "python",
     "metadata": {},
     "outputs": [
      {
       "metadata": {},
       "output_type": "pyout",
       "prompt_number": 9,
       "text": [
        "[2, 3, 5, 7, 11, 13, 17, 19, 23, 29, 31, 37, 41, 43, 47]"
       ]
      }
     ],
     "prompt_number": 9
    },
    {
     "cell_type": "markdown",
     "metadata": {},
     "source": [
      "This is accurate, but we can make a couple of improvements.  First, note that any divisor $d$ of $N$ has a paired divisor $d / N$.  At least one of $d$ and $d / N$ must be less than or equal to $\\sqrt{N}$.  That means we only need to test candidate divisors up to a maximum of $\\sqrt{N}$ rather than $N-1$.  Secondly, we know that 2 is the only even prime, so we can simply skip all other even candidate divisors:"
     ]
    },
    {
     "cell_type": "code",
     "collapsed": false,
     "input": [
      "def is_prime_faster(N):\n",
      "    if (N % 2) == 0:\n",
      "        return False\n",
      "    for i in xrange(3, int(sqrt(N)), 2):\n",
      "        if (N % i) == 0:\n",
      "            return False\n",
      "    return True"
     ],
     "language": "python",
     "metadata": {},
     "outputs": [],
     "prompt_number": 18
    },
    {
     "cell_type": "code",
     "collapsed": false,
     "input": [
      "%timeit [p for p in range(2, 10000) if is_prime(p)]\n",
      "%timeit [p for p in range(2, 10000) if is_prime_faster(p)]"
     ],
     "language": "python",
     "metadata": {},
     "outputs": [
      {
       "output_type": "stream",
       "stream": "stdout",
       "text": [
        "1 loops, best of 3: 827 ms per loop\n",
        "100 loops, best of 3: 18.9 ms per loop"
       ]
      },
      {
       "output_type": "stream",
       "stream": "stdout",
       "text": [
        "\n"
       ]
      }
     ],
     "prompt_number": 19
    },
    {
     "cell_type": "markdown",
     "metadata": {},
     "source": [
      "Finally, if we already know the primes less than $\\sqrt{N}$, we can restrict the candidate divisors to the primes rather than all odd numbers, giving an even larger speed up.  \n",
      "\n",
      "These methods work OK for relatively small numbers, but for large numbers like those primes used for cryptography, faster methods are required.  For these, we exploit *probabilistic* primality testing, which uses a number of trial random numbers to test using methods I won't go into detail about to estimate whether a number is prime.  It does have a chance of failure, but that chance can be made arbitrarily low.  If you'd like to know more detail, look up the Miller-Rabin primality test algorithm."
     ]
    },
    {
     "cell_type": "markdown",
     "metadata": {},
     "source": [
      "##### Generating Primes\n",
      "\n",
      "If we want to generate a list of primes less than some $N$, there's a better way than simply running one of the above `is_prime` tests on each (odd) number in the range.  The algorithm we'll talk about is called the Sieve of Erisothanes."
     ]
    },
    {
     "cell_type": "markdown",
     "metadata": {},
     "source": [
      "##### Sieve of Erisothanes\n",
      "\n",
      "The Sieve works by starting with the first prime, 2, and \"crossing out\" all multiples of 2 between $2^2$ and $N$, marking them as composite.  Then it takes the next uncrossed number, 3, and repeats, marking multiples of 3 between $3^2$ and $N$ as composite, leaving the next available prime as 5.  We keep doing this, repeating until we've generated all the primes we need. A well-implemented Sieve can generate all the primes less than ~10 million in only a few seconds (which, of course, you can generate before submitting your code and simply load in the list of primes you need from a file or from code).  For primes larger than that, you'll want to use some kind of optimized probability primality test."
     ]
    },
    {
     "cell_type": "code",
     "collapsed": false,
     "input": [
      "#Dynamic prime generator using the Sieve\n",
      "def primes(max=None):\n",
      "    composites = {}\n",
      "    #Yield 2 first, then only loop through odd numbers\n",
      "    yield 2\n",
      "    q = 3\n",
      "    while max is None or q < max:\n",
      "        if q not in composites:\n",
      "            yield q        \n",
      "            composites[q * q] = [q]\n",
      "        else:\n",
      "            for p in composites[q]:\n",
      "                try:\n",
      "                    composites[p+q].append(p)\n",
      "                except KeyError:\n",
      "                    composites[p+q] = [p]\n",
      "            del composites[q]\n",
      "        q += 2"
     ],
     "language": "python",
     "metadata": {},
     "outputs": [],
     "prompt_number": 29
    },
    {
     "cell_type": "code",
     "collapsed": false,
     "input": [
      "%timeit [p for p in primes(10000000)]"
     ],
     "language": "python",
     "metadata": {},
     "outputs": [
      {
       "output_type": "stream",
       "stream": "stdout",
       "text": [
        "1 loops, best of 3: 7.82 s per loop\n"
       ]
      }
     ],
     "prompt_number": 32
    },
    {
     "cell_type": "markdown",
     "metadata": {},
     "source": [
      "#### Prime Factorization\n",
      "\n",
      "The Fundamental Theorem of Arithmetic states that every integer has a unique representation as a multiplication of its prime factors.  That is, the prime numbers are the multiplicative building blocks of integers.  For example, 1200 can be factored into $2^4 \\times 3 \\times 5^2$.\n",
      "\n",
      "A naive algorithm for finding the prime factorization of an integer takes a list of primes (e.g., from a sieve) and simply checks each of them to see which divides the integer.  We can do better by dividing the intial integer by each prime factor we find:"
     ]
    },
    {
     "cell_type": "code",
     "collapsed": false,
     "input": [
      "def factor(N):\n",
      "    f = {}\n",
      "    for p in primes(sqrt(N)):\n",
      "        if p > N:\n",
      "            break\n",
      "        while (N % p) == 0:\n",
      "            try:\n",
      "                f[p] += 1\n",
      "            except KeyError:\n",
      "                f[p] = 1\n",
      "            N = N // p\n",
      "    if N > 1:\n",
      "        f[N] = 1\n",
      "    return f"
     ],
     "language": "python",
     "metadata": {},
     "outputs": [],
     "prompt_number": 40
    },
    {
     "cell_type": "code",
     "collapsed": false,
     "input": [
      "print factor(1200)\n",
      "print factor(136117223861)\n",
      "print factor(142391208960)"
     ],
     "language": "python",
     "metadata": {},
     "outputs": [
      {
       "output_type": "stream",
       "stream": "stdout",
       "text": [
        "{2: 4, 3: 1, 5: 2}\n",
        "{104729: 1, 1299709: 1}"
       ]
      },
      {
       "output_type": "stream",
       "stream": "stdout",
       "text": [
        "\n",
        "{2: 10, 3: 4, 5: 1, 7: 4, 11: 1, 13: 1}\n"
       ]
      }
     ],
     "prompt_number": 41
    },
    {
     "cell_type": "markdown",
     "metadata": {},
     "source": [
      "The prime representation of numbers is extremely useful for dealing with very large numbers without integer overflow problems.  For example, suppose you were asked how many trailing zeros there are in the decimal representation of 100!.  This is a *very* large number, much too large to fit into a 32-bit integer.  Python and Java can do this with their big integer handling, but there's an easier and faster way using the prime representation of the number.  A trailing zero at the end of an integer indicates a factor of 10 - the number is divisible by 10.  We wish to know how many times we can divide the number by 10, which is equivalent to asking how many prime factors of 2 and 5 are present in the number and reporting the smaller.  The factorial function will always add more factors of 2 than 5 to the final integer, so we need only count the number of 5s in the prime factorization."
     ]
    },
    {
     "cell_type": "code",
     "collapsed": false,
     "input": [
      "def count_trailing_zeros(n):\n",
      "    #Count the number of trailing zeros in the factorial of n\n",
      "    count = 0\n",
      "    while n >= 5:\n",
      "        count += n // 5\n",
      "        n = n // 5\n",
      "    return count"
     ],
     "language": "python",
     "metadata": {},
     "outputs": [],
     "prompt_number": 46
    },
    {
     "cell_type": "code",
     "collapsed": false,
     "input": [
      "print count_trailing_zeros(100)"
     ],
     "language": "python",
     "metadata": {},
     "outputs": [
      {
       "output_type": "stream",
       "stream": "stdout",
       "text": [
        "24\n"
       ]
      }
     ],
     "prompt_number": 47
    },
    {
     "cell_type": "markdown",
     "metadata": {},
     "source": [
      "And let's check, just to confirm that our answer is right:"
     ]
    },
    {
     "cell_type": "code",
     "collapsed": false,
     "input": [
      "def fact(n):\n",
      "    if n == 1:\n",
      "        return 1\n",
      "    return n * fact(n-1)\n",
      "print fact(100)"
     ],
     "language": "python",
     "metadata": {},
     "outputs": [
      {
       "output_type": "stream",
       "stream": "stdout",
       "text": [
        "93326215443944152681699238856266700490715968264381621468592963895217599993229915608941463976156518286253697920827223758251185210916864000000000000000000000000\n"
       ]
      }
     ],
     "prompt_number": 44
    },
    {
     "cell_type": "code",
     "collapsed": false,
     "input": [
      "365 % 7"
     ],
     "language": "python",
     "metadata": {},
     "outputs": [
      {
       "metadata": {},
       "output_type": "pyout",
       "prompt_number": 1,
       "text": [
        "1"
       ]
      }
     ],
     "prompt_number": 1
    },
    {
     "cell_type": "markdown",
     "metadata": {},
     "source": [
      "#### Modular Arithmetic\n",
      "\n",
      "Sometimes we don't *want* to work with the exact values of integers - instead we're interested in working with integers *modulus* some other number.  That is, we'll work with the remainder (or residue) of the integer remaining after dividing by the modulus.  This could be useful if we want to know, say, what day of the week it will be $N$ days in the future (the $N \\; \\textrm{mod} \\; 7$th day after today), or what the last digit of a large integer is ($N  \\; \\textrm{mod} \\; 10$).  It's also useful for working with large numbers, where we can more easily work with intermediate values modulo some reasonable number.  So let's talk about how modular arithmetic works.\n",
      "\n",
      "In most languages, there will be a primitive operator (usually `%`) that gives the remainder of an integer modulus some other number.  Let's look at some identities on how to operate on numbers $ \\; \\textrm{mod} \\; n$.  First, sums and differences modulo $n$ are identical if we first take the modulus of the initial numbers:\n",
      "\n",
      "$(x + y) \\; \\textrm{mod} \\; n = ((x \\; \\textrm{mod} \\; n) + (y  \\; \\textrm{mod} \\; n)) \\; \\textrm{mod} \\; n$\n",
      "\n",
      "$(x - y) \\; \\textrm{mod} \\; n = ((x \\; \\textrm{mod} \\; n) - (y  \\; \\textrm{mod} \\; n)) \\; \\textrm{mod} \\; n$\n",
      "\n",
      "This suggests we can extend this to multiplication:\n",
      "\n",
      "$xy \\; \\textrm{mod} \\; n = (x \\; \\textrm{mod} \\; n)(y \\; \\textrm{mod} \\; n) \\; \\textrm{mod} \\; n$\n",
      "\n",
      "and exponentiation:\n",
      "\n",
      "$x^y \\; \\textrm{mod} \\; n = (x \\; \\textrm{mod} \\; n)^y \\; \\textrm{mod} \\; n$\n",
      "\n",
      "Division is tricky - you *can't* just do this simple method for modular division.  In fact, it's complicated enough (and rare enough) that I'm not going to cover it in class, but the short answer is that you need to find the inverse of some $d$ - a number that when multiplied by $d$ is equal to 1 (mod n), and then multiply by that number.  But sometimes inverses don't exist, and in general it just gets complicated.  Hie thee to a number theory book (e.g. CLRS) if you need more.\n",
      "\n",
      "Let's look at an example - what is the last digit of $2^{100}$?  What we really want to know is $2^{100} \\; \\textrm{mod} \\; 10$.  By repeated squaring and taking the remainder mod 10 at each step we can end up with the final result while avoiding ever having to work directly with large numbers:"
     ]
    },
    {
     "cell_type": "markdown",
     "metadata": {},
     "source": [
      "$2^3 mod 10 = 8$\n",
      "\n",
      "$2^6 mod 10 = 8 \\times 8 mod 10 = 4$\n",
      "\n",
      "$2^{12} mod 10 = 4 \\times 4 mod 10 = 6$\n",
      "\n",
      "$2^{24} mod 10 = 6 \\times 6 mod 10 = 6$\n",
      "\n",
      "$2^{48} mod 10 = 6 \\times 6 mod 10 = 6$\n",
      "\n",
      "$2^{96} mod 10 = 6 \\times 6 mod 10 = 6$\n",
      "\n",
      "$2^{100} mod 10 = 2^{96} \\times 2^3 \\times 2 mod 10 = 6 \\times 8 \\times 2  = 96 mod 10 = 6$\n",
      "\n",
      "And we can check to make sure that our answer is right:"
     ]
    },
    {
     "cell_type": "code",
     "collapsed": false,
     "input": [
      "print pow(2, 100)"
     ],
     "language": "python",
     "metadata": {},
     "outputs": [
      {
       "output_type": "stream",
       "stream": "stdout",
       "text": [
        "1267650600228229401496703205376\n"
       ]
      }
     ],
     "prompt_number": 48
    },
    {
     "cell_type": "markdown",
     "metadata": {},
     "source": [
      "##### Chinese Remainder Theorem\n",
      "\n",
      "The Chinese Remainder Theorem deals with finding some $x$ where we know the remainders of $x$ divided by different integers.  The theorem states that if the moduli are relatively prime (their GCD is 1) then we are guaranteed a solution (otherwise the different remainders could possibly be inconsistent).  Let's look at an example.  Suppose we know that \n",
      "\n",
      "$x \\; mod \\; 3 = 2$ and\n",
      "\n",
      "$x \\; mod \\; 5 = 3$.  \n",
      "\n",
      "We could find the answer(s) by simply listing values of $x$ which hold for the first:\n",
      "\n",
      "$2, 5, 8, 11, 14, 17, 20, 23, 26, 29\\dots$\n",
      "\n",
      "and second equations:\n",
      "\n",
      "$3, 8, 13, 18, 23, 28, 33 \\dots$\n",
      "\n",
      "and we can see that $x=8$ and $x=23$ are both valid solutions.  But this method could take quite a while if we have large remainders, moduli, or a large number of moduli.  "
     ]
    },
    {
     "cell_type": "markdown",
     "metadata": {},
     "source": [
      "#### Lab Section\n",
      "\n",
      "No official homework this week, but take a look at \n",
      "\n",
      "[Timus Online Judge #1049 - Brave Balloonists](http://acm.timus.ru/problem.aspx?space=1&num=1049)\n",
      "\n",
      "Send me a complete and correct solution and I'll give you homework extra credit!"
     ]
    }
   ],
   "metadata": {}
  }
 ]
}