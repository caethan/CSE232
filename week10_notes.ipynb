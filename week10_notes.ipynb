{
 "metadata": {
  "name": "week10_notes.ipynb"
 },
 "nbformat": 3,
 "nbformat_minor": 0,
 "worksheets": [
  {
   "cells": [
    {
     "cell_type": "markdown",
     "metadata": {},
     "source": [
      "# Week 10 - Probability and Combinatorics"
     ]
    },
    {
     "cell_type": "markdown",
     "metadata": {},
     "source": [
      "This week we're going to talk about two related topics.  First, combinatorics - counting objects of a particular kind or size, like the number of ways in which a particular event could happen, or the number of ways to create a particular kind of string or binary tree, etc.  Secondly, probability - how likely is it that a particular kind of event will happen out of all possible events."
     ]
    },
    {
     "cell_type": "markdown",
     "metadata": {},
     "source": [
      "#### Combinatorics\n",
      "\n",
      "Combinatorics is the study of countable discrete structures.  There are three major fields in combinatorics:  permutations (how many ways can I arrange an ordered array of $n$ discrete objects? $n!$), combinations (how many ways can I select a subset of objects from an unordered set of objects? $2^n$), and partitions (how many ways can I divide up an integer into smaller numbers that sum to it?). \n",
      "\n",
      "But rather than go into great detail into the theory behind combinatorics, let's instead talk about a couple of sequences commonly used in combinatorics that you'll see repeatedly in a wide range of problems."
     ]
    },
    {
     "cell_type": "markdown",
     "metadata": {},
     "source": [
      "##### Fibonacci Sequence\n",
      "\n",
      "The Fibonacci sequences is well known, and comes up often in a variety of contexts.  There are several different ways to define and calculate the sequence, and some of these tricks can be used for related sequences.\n",
      "\n",
      "Fibonacci numbers are defined recursively as the sum of the previous two numbers in the sequence:\n",
      "\n",
      "\\begin{equation}\n",
      "F_0 = 0 \\\\\n",
      "F_1 = 1 \\\\\n",
      "F_n = F_{n-2} + F_{n-1}\n",
      "\\end{equation}\n",
      "\n",
      "which gives the sequence 0, 1, 1, 2, 3, 5, 8, 13, 21, 34, 55, 89$\\dots$  \n",
      "\n",
      "Implementing this recursive solution directly is very slow, as it runs in $O(\\phi^n)$ exponential time, where $\\phi$ is the golden mean $\\frac{1 + \\sqrt{5}}{2} = 1.618\\dots$.  This time complexity is related to the approximation of $\\phi$ as the ratio of $F_n$ to $F_{n-1}$.\n",
      "\n",
      "We can instead calculate the sequence in linear $O(n)$ time with a simple dynamic programming solution by simply iterating from $F_0$ to $F_n$, saving the last two values of the sequence to compute the next one.\n",
      "\n",
      "There are two other interesting, faster, methods for calculating the numbers of a Fibonacci sequence:\n",
      "\n",
      "First, by $O(log(n))$ solution using exponentiation of a matrix:\n",
      "\n",
      "\\begin{equation}\n",
      "\\left[ \\begin{array}{cc}\n",
      "F_{n+1} & F_n \\\\\n",
      "F_n & F_{n-1} \\end{array} \\right] = \\left[ \\begin{array}{cc}\n",
      "1 & 1 \\\\\n",
      "1 & 0 \\end{array} \\right] ^ p\n",
      "\\end{equation}\n",
      "\n",
      "We can exponentiate the matrix in $log(n)$ time by repeated squaring of the matrix.\n",
      "\n",
      "There is an even faster $O(1)$ method:  $F_n$ is the closest integer to the real number $(\\phi^n - (-\\phi^{-n})) / \\sqrt{5}$.  For small values of $n$, we can do this in constant time, but beware of using it for larger values where rounding errors may cause problems."
     ]
    },
    {
     "cell_type": "markdown",
     "metadata": {},
     "source": [
      "##### Binomial Coefficients\n",
      "\n",
      "Binomial coefficients are defined as the $k_{th}$ coefficients of the expansion of the $n_{th}$ power of a binomial $(x+y)$.  For example, $(x+y)^3 = 1x^3 + 3x^2y + 3xy^2 + 1y^3$, so $\\{1, 3, 3, 1\\}$ are the binomial coefficients for $n=3$ and $k=\\{0, 1, 2, 3\\}$.  These coefficients can also be interpreted as the number of ways to choose $k$ distinct items from a set of $n$ total items, usually denoted as $n \\choose k$.  A closed-form solution for binomial coefficients can be given in terms of factorials:\n",
      "\n",
      "\\begin{equation}\n",
      "{n \\choose k} = C(n, k) = \\frac{n!}{(n-k)! \\times k!}\n",
      "\\end{equation}\n",
      "\n",
      "However, this solution is slow to calculate for for large $n$ and $k$, and likely to cause problems with integer overflows.  A much better solution is the recursive formula\n",
      "\n",
      "\\begin{equation}\n",
      "C(n, 0) = C(n, n) = 1 \\\\\n",
      "C(n, k) = C(n-1, k-1) + C(n-1, k)\n",
      "\\end{equation}\n",
      "\n",
      "When large number of binomial coefficients are required, it can be worthwhile to construct the full Pascal's triangle from this recursive solution:\n",
      "\n",
      "`n=0       1 \n",
      "n=1      1 1\n",
      "n=2     1 2 1\n",
      "n=3    1 3 3 1\n",
      "n=4   1 4 6 4 1\n",
      "n=5  1 5 10 10 5 1\n",
      "n=6 1 6 15 20 15 6 1`"
     ]
    },
    {
     "cell_type": "markdown",
     "metadata": {},
     "source": [
      "##### Catalan Numbers\n",
      "\n",
      "While I expect everyone has heard of Fibonacci number and binomial coefficients before, probably most of you are completely new to what are known as the Catalan numbers.  Before I discuss what they're used for, let's define them.  Just like the binomial coefficients, they can be represented as a closed-form expression in terms of factorials, which in turn can be broken down into binomial coefficients:\n",
      "\n",
      "\\begin{equation}\n",
      "Cat(n) = \\frac{2n!}{n! \\times n! \\times (n+1)}\\\\\n",
      "Cat(n) = {2n \\choose n} \\times \\frac{1}{n+1}\\\\\n",
      "Cat(n) = {2n \\choose n} - {2n \\choose n+1}\n",
      "\\end{equation}\n",
      "\n",
      "We can also define them recursively:\n",
      "\n",
      "\\begin{equation}\n",
      "Cat(0) = 1 \\\\\n",
      "Cat(n) = \\frac{2n \\times (2n - 1)}{(n+1) \\times n} \\times Cat(n-1)\n",
      "\\end{equation}\n",
      "\n",
      "So we can use the same approaches we might take for the binomial coefficients to calculate these.  The first few Catalan numbers are 1, 1, 2, 5, 14, 42, 132, 429, 1,430, 4,862, 16,796, 58,786, 208,012, 742,900, 2,674,440, 9,694,845, 35,357,670.  \n",
      "\n",
      "The Catalan numbers have an *enormous* number of possible interpretations combinatorially, most notably as the number of *Dyck words* of length $2n$, where a Dyck word is a string with $n$ $X$s and $n$ $Y$s where no prefix of the string contains more $Y$s than $X$s.  Other interpretations:  the number of ways to correctly match $n$ pairs of parentheses, the number of ways to triangulate a polygon of $n+2$ sides, the number of distinct binary trees with $n$ nodes, *etc.*, *etc.*  There are far too many interpretations for me to cover them all, so in general, if you come across a combinatorial problem you're not sure about - check the first few simple values and see if they are the Catalan numbers!"
     ]
    },
    {
     "cell_type": "markdown",
     "metadata": {},
     "source": [
      "##### OEIS\n",
      "\n",
      "When working with an unknown sequence, the [Online Encyclopedia of Integer Sequences](http://oeis.org/) is a great resource (if the internet is available to you).  Generate the first 10 or so of the sequence, which can usually be done by hand, and then run a search on the OEIS.  If you're lucky and the sequence is clearly identifiable, it will tell you what the sequence is and give you the general formula on how to construct the sequence efficiently."
     ]
    },
    {
     "cell_type": "markdown",
     "metadata": {},
     "source": [
      "#### Probability\n",
      "\n",
      "OK, so with combinatorics we've been interested in counting the number of ways of some event happening $N_{event}$.  Suppose we instead want to find out how likely it is that that event will happen.  For this, we need to also know the *total* number of possibilities that could happen $N_{total}$; then we can calculate the probability as the ratio of the two:\n",
      "\n",
      "$p_{event} = \\frac{N_{event}}{N_{total}}$\n",
      "\n",
      "Note that this is always a number between 0 and 1, inclusive.  To do this calculation correctly, it is essential to correctly enumerate all the distinct events that could happen.  For example, suppose we wished to know how likely it is that we would get a sum of 3 on a throw of two six-sided dice.  An incorrect way to calculate this might be to note that there are 11 different possible sums of the dice (2 to 12) and one of them is the number that we want, giving \n",
      "\n",
      "$p_{3} = \\frac{1}{11} \\textrm{(wrong!)}$\n",
      "\n",
      "This is the wrong answer, however.  To obtain the right answer, we need to notice that there are actually 36 total possibilities, each corresponding to one roll of the first and one of the second dice and 2 different ways of rolling a sum of 3 - a 2 on the first and a 1 on the second dice and vice versa, giving\n",
      "\n",
      "$p_{3} = \\frac{2}{36} = \\frac{1}{18} \\textrm{(right!)}$\n",
      "\n",
      "Combinatorics will obviously come in quite handy when trying to count these possibilities.  Let's look at another example.  Suppose we choose four numbers at random from the integers between 1 and 10 without replacement and we wish to know how likely it is that we get both 1 and 2 in our set. We know that there are $2^{10}=1024$ total subsets, but this includes subsets that are smaller or larger than 4 elements.  Instead for the denominator we need the number of subsets of size 4, which is ${10 \\choose 4} = 210$.  How many of them contain both 1 and 2?  Well, this is equivalent to taking the eight elements that are larger than 2 and randomly choosing 2 of them to fill up the remainder of the set, or ${8 \\choose 2} = 28$.  This gives us a probability of $\\frac{28}{210} = \\frac{2}{15}$.\n",
      "\n",
      "Probabilities can be manipulated in several different ways.  Most importantly, if we have two different, disjoint events that could happen and we wish to know the probability of either one of them happening, it's simply the sum of the probabilities of either of them happening.\n",
      "\n",
      "##### Expected Values\n",
      "\n",
      "Very often we're interested not only probabilities but also in some variable associated with each event.  Suppose we have a number of different possibilities, each of which has a score or a value associated with it, and we wish to know what the average score will be if we randomly pick events repeatedly.  For example, suppose we roll two dice and win \\$10 if the product of the dice is at least 25, but lose \\$2 otherwise.  How much money are we likely to win on average?  Well, first let's calculate the probabilities of each event.  As we described above, there are 36 different possible outcomes for the pair of rolls.  4 of these - (6, 6), (5, 6), (6, 5), (5, 5) - are wins for us, while the remaining 32 are losses.  The expected value of the roll is then the sum of the products of the probability and score for each event:\n",
      "\n",
      "$EV = \\frac{4}{36} \\times 10 + \\frac{32}{36} \\times -2 = -\\frac{2}{3}.$\n",
      "\n",
      "So on average, we can expect to lose $0.66 a roll playing this game.  \n",
      "\n",
      "Very often we'll want to compare the expected value of several different options and pick the best one.  Usually the difficulty here is not calculating the expected value, but correctly identifying the score of each possibility for our option and using combinatorics to calculate the probability of that possibility occuring.  This is what your homework assignment this week will be focused on.\n",
      "\n",
      "##### Bayes' Theorem (optional)\n",
      "\n",
      "$P(A|B) = \\frac{P(B | A)\\, P(A)}{P(B)}\\cdot$"
     ]
    },
    {
     "cell_type": "markdown",
     "metadata": {},
     "source": [
      "#### Lab Section\n",
      "\n",
      "Again, we're going to work on this week's homework problem during lab section:\n",
      "\n",
      "[Google Code Jam Round 1A 2012 - Password Problem](https://code.google.com/codejam/contest/1645485/dashboard)"
     ]
    }
   ],
   "metadata": {}
  }
 ]
}