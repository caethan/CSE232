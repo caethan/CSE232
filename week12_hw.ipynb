{
 "metadata": {
  "name": "week12_hw.ipynb"
 },
 "nbformat": 3,
 "nbformat_minor": 0,
 "worksheets": [
  {
   "cells": [
    {
     "cell_type": "markdown",
     "metadata": {},
     "source": [
      "## Homework 12, CSE 232\n",
      "#### Due December 3\n",
      "Note: On most of the problem sets through the semester, I'll put a horizontal line with \"Optional\" under it.  Any problems below this section are encouraged - I think they're interesting and will help you learn the subject - but not necessary to complete in order to get credit for the homework."
     ]
    },
    {
     "cell_type": "markdown",
     "metadata": {},
     "source": [
      "### Problem 1\n",
      "\n",
      "This week's problem is [Google Code Jam Round 1B 2012 - Equal Sums](https://code.google.com/codejam/contest/1836486/dashboard#s=p2&a=2).  Here's the problem statement:"
     ]
    },
    {
     "cell_type": "markdown",
     "metadata": {},
     "source": [
      "> I have a set of positive integers S. Can you find two non-empty, distinct subsets with the same sum?\n",
      "\n",
      "> Note: A subset is a set that contains only elements from S, and two subsets are distinct if they do not have exactly the same elements.\n",
      "\n",
      "#### Input\n",
      "\n",
      "> The first line of the input gives the number of test cases, T. T test cases follow, one per line. Each test case begins with N, the number of positive integers in S. It is followed by N distinct positive integers, all on the same line.\n",
      "\n",
      "#### Output\n",
      "\n",
      "> For each test case, first output one line containing \"Case #x:\", where x is the case number (starting from 1).\n",
      "\n",
      "> If there are two different subsets of S that have the same sum, then output these subsets, one per line. Each line should contain the numbers in one subset, separated by spaces.\n",
      "> If it is impossible, then you should output the string \"Impossible\" on a single line.\n",
      "> If there are multiple ways of choosing two subsets with the same sum, any choice is acceptable.\n",
      "\n",
      "#### Limits\n",
      "\n",
      "> No two numbers in S will be equal.\n",
      "\n",
      "> 1 \u2264 T \u2264 10.\n",
      "\n",
      "##### Small dataset\n",
      "\n",
      "> N is exactly equal to 20.\n",
      "\n",
      "> Each number in S will be a positive integer less than $10^5$.\n",
      "\n",
      "##### Large dataset\n",
      "\n",
      "> N is exactly equal to 500.\n",
      "\n",
      "> Each number in S will be a positive integer less than $10^{12}$."
     ]
    },
    {
     "cell_type": "markdown",
     "metadata": {},
     "source": [
      "> *a) For the Small input, what is the smallest and largest possible sum of a subset of S?  How about for the Large input?*"
     ]
    },
    {
     "cell_type": "markdown",
     "metadata": {},
     "source": [
      "> *b) Describe how you could write a dynamic programming solution to the Small input by relating larger subset sums to smaller ones.  Why won't this approach work for the Large subset?*"
     ]
    },
    {
     "cell_type": "markdown",
     "metadata": {},
     "source": [
      "> *c) What are the total possible number of subsets for the Large inputs?  How about only subsets of size 6?  How does this suggest a simple randomized approach to solving the problem? Implement a randomized algorithm to the Large input, test it, and attach it to your homework.*"
     ]
    }
   ],
   "metadata": {}
  }
 ]
}