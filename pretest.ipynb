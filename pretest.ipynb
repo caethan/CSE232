{
 "metadata": {
  "name": "pretest.ipynb"
 },
 "nbformat": 3,
 "nbformat_minor": 0,
 "worksheets": [
  {
   "cells": [
    {
     "cell_type": "markdown",
     "metadata": {},
     "source": [
      "### Pre-class questionnaire\n",
      "This questionnaire is designed simply to give us an idea of your experience and help us tune the class to your needs. Please fill it out and return at the end of class today."
     ]
    },
    {
     "cell_type": "raw",
     "metadata": {},
     "source": [
      "\\begin{enumerate}\n",
      "  \\setlength{\\itemsep}{1.5cm}%\n",
      "  \\setlength{\\parskip}{1.5cm}%\n",
      "  \\item Please provide your name, email address, and your user handles on the Timus and Sphere Online Judges (you'll make these during the lab section of today's class).\n",
      "  \\item What is your preferred computer language to use and why?\n",
      "  \\item Have you taken an algorithms class before?  Which ones (if at Wash U)?\n",
      "  \\item Have you participated in any formal programming competitions before (\\textit{e.g.} Google Code Jam, ICPC, TopCoder, \\textit{etc.})?  Which ones, and how well did you do?\n",
      "  \\item What do you hope to get out of the class?\n",
      "  \\item Are you planning on participating in the ICPC this year?\n",
      "\\end{enumerate}"
     ]
    }
   ],
   "metadata": {}
  }
 ]
}